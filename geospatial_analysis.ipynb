{
 "cells": [
  {
   "cell_type": "code",
   "execution_count": null,
   "metadata": {},
   "outputs": [],
   "source": [
    "import pandas as pd\n",
    "import folium\n",
    "import plotly.express as px\n",
    "import plotly.graph_objects as go \n",
    "from plotly.subplots import make_subplots\n",
    "import plotly.io as pio"
   ]
  },
  {
   "cell_type": "code",
   "execution_count": null,
   "metadata": {},
   "outputs": [],
   "source": [
    "pio.templates.default = 'plotly_white'"
   ]
  },
  {
   "cell_type": "code",
   "execution_count": null,
   "metadata": {},
   "outputs": [],
   "source": [
    "metro_data = pd.read_csv('Delhi-Metro-Network.csv')\n",
    "metro_data.head()"
   ]
  },
  {
   "cell_type": "code",
   "execution_count": null,
   "metadata": {},
   "outputs": [],
   "source": [
    "metro_data.describe()"
   ]
  },
  {
   "cell_type": "code",
   "execution_count": null,
   "metadata": {},
   "outputs": [],
   "source": [
    "metro_data.isna().sum()"
   ]
  },
  {
   "cell_type": "code",
   "execution_count": null,
   "metadata": {},
   "outputs": [],
   "source": [
    "metro_data.dtypes"
   ]
  },
  {
   "cell_type": "code",
   "execution_count": null,
   "metadata": {},
   "outputs": [],
   "source": [
    "metro_data['Opening Date'] = pd.to_datetime(metro_data['Opening Date'],format=\"%d-%m-%Y\")"
   ]
  },
  {
   "cell_type": "code",
   "execution_count": null,
   "metadata": {},
   "outputs": [],
   "source": [
    "metro_data['Opening Date'].dtypes"
   ]
  },
  {
   "cell_type": "code",
   "execution_count": null,
   "metadata": {},
   "outputs": [],
   "source": [
    "metro_data['Station Name']"
   ]
  },
  {
   "cell_type": "code",
   "execution_count": null,
   "metadata": {},
   "outputs": [],
   "source": [
    "metro_data['Line'].unique()"
   ]
  },
  {
   "cell_type": "code",
   "execution_count": null,
   "metadata": {},
   "outputs": [],
   "source": [
    "line_colors = {\n",
    "    'Red line': 'red',\n",
    "    'Blue line': 'blue',\n",
    "    'Yellow line': 'beige',\n",
    "    'Green line': 'green',\n",
    "    'Voilet line': 'purple',\n",
    "    'Pink line': 'pink',\n",
    "    'Magenta line': 'darkred',\n",
    "    'Orange line': 'orange',\n",
    "    'Rapid Metro': 'cadetblue',\n",
    "    'Aqua line': 'black',\n",
    "    'Green line branch': 'lightgreen',\n",
    "    'Blue line branch': 'lightblue',\n",
    "    'Gray line': 'lightgray'\n",
    "}"
   ]
  },
  {
   "cell_type": "code",
   "execution_count": null,
   "metadata": {},
   "outputs": [],
   "source": [
    "delhi_map_with_line = folium.Map(location=[28.7041, 77.1025],zoom_start=11)"
   ]
  },
  {
   "cell_type": "code",
   "execution_count": null,
   "metadata": {},
   "outputs": [],
   "source": [
    "for index, row in metro_data.iterrows():\n",
    "    line = row['Line']\n",
    "    color = line_colors.get(line,\"black\")\n",
    "    folium.Marker(\n",
    "        location = [row['Latitude'],row['Longitude']],\n",
    "        popup = f\"{row['Station Name']}\",\n",
    "        tooltip = f\"{row['Station Name']},{line}\",\n",
    "        icon=folium.Icon(color=color)\n",
    "    ).add_to(delhi_map_with_line)"
   ]
  },
  {
   "cell_type": "code",
   "execution_count": null,
   "metadata": {},
   "outputs": [],
   "source": [
    "delhi_map_with_line"
   ]
  },
  {
   "cell_type": "code",
   "execution_count": null,
   "metadata": {},
   "outputs": [],
   "source": [
    "metro_data['Opening Year'] = metro_data['Opening Date'].dt.year"
   ]
  },
  {
   "cell_type": "code",
   "execution_count": null,
   "metadata": {},
   "outputs": [],
   "source": [
    "station_per_year = metro_data['Opening Year'].value_counts().sort_index()"
   ]
  },
  {
   "cell_type": "code",
   "execution_count": null,
   "metadata": {},
   "outputs": [],
   "source": [
    "station_per_year_df = station_per_year.reset_index()\n",
    "station_per_year_df.columns = ['Year','Number of Stations']\n",
    "station_per_year_df"
   ]
  },
  {
   "cell_type": "code",
   "execution_count": null,
   "metadata": {},
   "outputs": [],
   "source": [
    "fig = px.bar(station_per_year_df,x='Year',y='Number of Stations',\n",
    "             title=\"Number of Metro Stations Opened Each Year in Delhi\",\n",
    "             labels={'Number of Stations':'Number of Stations Opened'},\n",
    "             text_auto = False,\n",
    "             color='Year'\n",
    "             )\n",
    "\n",
    "fig.update_layout(xaxis_tickangle = -60,xaxis = dict(tickmode='linear'))\n",
    "fig.update_layout(width=1400,height=600)\n",
    "\n",
    "\n",
    "fig.show()"
   ]
  },
  {
   "cell_type": "code",
   "execution_count": null,
   "metadata": {},
   "outputs": [],
   "source": [
    "total = metro_data['Station ID'].count()\n",
    "total"
   ]
  },
  {
   "cell_type": "code",
   "execution_count": null,
   "metadata": {},
   "outputs": [],
   "source": [
    "station_per_line = metro_data['Line'].value_counts()\n",
    "station_per_line"
   ]
  },
  {
   "cell_type": "code",
   "execution_count": null,
   "metadata": {},
   "outputs": [],
   "source": [
    "total_distance_per_line = metro_data.groupby('Line')['Distance from Start (km)'].max()\n",
    "avg_distance_per_line = total_distance_per_line / (station_per_line - 1)\n",
    "\n",
    "line_analysis = pd.DataFrame(\n",
    "    {\n",
    "        'Line':station_per_line.index,\n",
    "        'Number of Stations' : station_per_line.values,\n",
    "        'AVG Distance Between Stations' : avg_distance_per_line\n",
    "    }\n",
    ")\n",
    "\n",
    "line_analysis = line_analysis.sort_values(by='Number of Stations',ascending=False)\n",
    "\n",
    "line_analysis.reset_index(drop=True,inplace=True)\n",
    "line_analysis"
   ]
  },
  {
   "cell_type": "code",
   "execution_count": null,
   "metadata": {},
   "outputs": [],
   "source": [
    "fig = make_subplots(rows=1,cols=2,subplot_titles=('Number of Stations Per Metro Line',\n",
    "                                                  'Average Distance Between Stations Per Metro Line (km)'),\n",
    "                                                  horizontal_spacing=0.2)\n",
    "\n",
    "fig.add_trace(\n",
    "    go.Bar(y=line_analysis['Line'],x=line_analysis['Number of Stations'],\n",
    "           orientation='h',name='Number Of Stations',marker_color='crimson'),\n",
    "           row=1,col=1\n",
    ")\n",
    "\n",
    "fig.add_trace(\n",
    "    go.Bar(y=line_analysis['Line'],x=line_analysis['AVG Distance Between Stations'],\n",
    "           orientation='h',name='Average Distance (km)',marker_color='navy'),\n",
    "           row=1,col=2\n",
    ")\n",
    "\n",
    "fig.update_xaxes(title_text=\"Number of Stations\", row=1, col=1)\n",
    "fig.update_xaxes(title_text=\"Average Distance Between Stations (km)\", row=1, col=2)\n",
    "\n",
    "fig.update_yaxes(title_text=\"Metro Line\",row=1,col=1)\n",
    "fig.update_layout(height=600,width=1400,title_text='Metro Line Analysis')\n",
    "\n",
    "fig.show()"
   ]
  },
  {
   "cell_type": "code",
   "execution_count": null,
   "metadata": {},
   "outputs": [],
   "source": [
    "layout_counts = metro_data['Station Layout'].value_counts()"
   ]
  },
  {
   "cell_type": "code",
   "execution_count": null,
   "metadata": {},
   "outputs": [],
   "source": [
    "fig = px.bar(x=layout_counts.index,y=layout_counts.values,\n",
    "             labels={'x':'Station Layout', 'y': 'Number of Stations'},\n",
    "             title='Distribution of Delhi Metro Layouts',\n",
    "             color=layout_counts.index,\n",
    "             color_continuous_scale='pastel',\n",
    "             text_auto=True,\n",
    "             hover_name=layout_counts.index)\n",
    "\n",
    "fig.update_layout(coloraxis_showscale=False,template=\"plotly_white\")\n",
    "fig.update_layout(height=400,width=600)\n",
    "\n",
    "fig.show()"
   ]
  },
  {
   "cell_type": "code",
   "execution_count": null,
   "metadata": {},
   "outputs": [],
   "source": [
    "s = metro_data['Station Layout'].isin(['At-Grade'])\n",
    "metro_data[s]['Station Name']"
   ]
  }
 ],
 "metadata": {
  "kernelspec": {
   "display_name": "venv",
   "language": "python",
   "name": "python3"
  },
  "language_info": {
   "codemirror_mode": {
    "name": "ipython",
    "version": 3
   },
   "file_extension": ".py",
   "mimetype": "text/x-python",
   "name": "python",
   "nbconvert_exporter": "python",
   "pygments_lexer": "ipython3",
   "version": "3.8.18"
  }
 },
 "nbformat": 4,
 "nbformat_minor": 2
}
